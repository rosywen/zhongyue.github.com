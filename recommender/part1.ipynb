{
 "cells": [
  {
   "cell_type": "markdown",
   "metadata": {},
   "source": [
    "# Music Recommendation Using ALS and SGD"
   ]
  },
  {
   "cell_type": "markdown",
   "metadata": {},
   "source": [
    "## 1. Introduction"
   ]
  },
  {
   "cell_type": "markdown",
   "metadata": {},
   "source": [
    "Big data analytics is the use of advanced analytic techniques against very large, diverse data sets. Nowadays, big data brings a significant benefit to a large number of areas such as education, health care, and the government sector. Companies take advantage of big data to improve their operational efficiency and offer marketing insights. The use of big data allows businesses to observe various customer-related patterns and trends. \n",
    "\n",
    "The recommendation system that predicts user preference for a set of items based on past experience is one of the most common machine learning applications based on sufficient data and big data. The most famous one is probably Amazon’s recommendation engine, which provides users their personalized page on the Amazon app.\n",
    "\n",
    "Big data is too large to process using traditional database and software techniques. Therefore, pyspark is used to  distribute and cache data in memory and helps them to optimize machine learning algorithms on big data. In this project, I use two collaborative filtering approaches, Alternating Least Square (ALS) and Stochastic Gradient Descent (SGD) to create music recommenders, which recommend artists to people based on their historical preference on artists."
   ]
  },
  {
   "cell_type": "code",
   "execution_count": 1,
   "metadata": {},
   "outputs": [],
   "source": [
    "from pyspark.sql.types import *\n",
    "from pyspark.ml.evaluation import RegressionEvaluator\n",
    "from pyspark.mllib.recommendation import *\n",
    "from math import sqrt\n",
    "from matplotlib import pyplot as plt\n",
    "%matplotlib inline"
   ]
  },
  {
   "cell_type": "markdown",
   "metadata": {},
   "source": [
    "## 2. Loading and Cleaning the Dataset"
   ]
  },
  {
   "cell_type": "markdown",
   "metadata": {},
   "source": [
    "The music listening dataset contains profiles for around 150,000 real people from Audioscrobbler. There are three files in the data:\n",
    "* user_artist_data.txt: 3 columns, \"userid\", \"artistid\", and \"playcount\" (indicating how many times each user played each artist)\n",
    "* artist_data.txt: 2 columns, \"artistid\", and \"artist_name\"\n",
    "* artist_alias.txt: 2 columns, \"badid\" (incorrectly spelled artists), and \"goodid\" (correct artist ids).\n",
    "\n",
    "The Audioscrobbler dataset record merely the number of times users listen to music instead of the explicit rating. A dataset like that tends to cover more users and artists."
   ]
  },
  {
   "cell_type": "markdown",
   "metadata": {},
   "source": [
    "First of all, the music listening dataset is uploaded into Hadoop File System by the following steps:\n",
    "\n",
    "rosywen@rosy-cluster-m:~$ wget https://storage.googleapis.com/aas-data-sets/profiledata_06-May-2005.tar.gz\n",
    "\n",
    "rosywen@rosy-cluster-m:~$ tar --extract --file profiledata_06-May-2005.tar.gz\n",
    "\n",
    "rosywen@rosy-cluster-m:~$ hadoop fs -put ~/profiledata_06-May-2005/ /\n"
   ]
  },
  {
   "cell_type": "code",
   "execution_count": 2,
   "metadata": {},
   "outputs": [
    {
     "data": {
      "text/plain": [
       "[Row(userId=1000002, artistId=1, playCount=55.0),\n",
       " Row(userId=1000002, artistId=1000006, playCount=33.0),\n",
       " Row(userId=1000002, artistId=1000007, playCount=8.0),\n",
       " Row(userId=1000002, artistId=1000009, playCount=144.0),\n",
       " Row(userId=1000002, artistId=1000010, playCount=314.0)]"
      ]
     },
     "execution_count": 2,
     "metadata": {},
     "output_type": "execute_result"
    }
   ],
   "source": [
    "#user_artist_data.txt\n",
    "folder = \"hdfs:///profiledata_06-May-2005/\"\n",
    "user_artist_schema = StructType([\n",
    "    StructField(\"userId\", LongType(), True),    \n",
    "    StructField(\"artistId\", LongType(), True),\n",
    "    StructField(\"playCount\", FloatType(), True)\n",
    "])\n",
    "user_artist = spark.read.csv(folder+\"user_artist_data.txt\", sep = \" \", header=False, schema = user_artist_schema)\n",
    "user_artist.head(5) #pyspark.sql.dataframe.DataFrame"
   ]
  },
  {
   "cell_type": "code",
   "execution_count": 3,
   "metadata": {},
   "outputs": [
    {
     "data": {
      "text/plain": [
       "[Row(badId=1092764, goodId=1000311),\n",
       " Row(badId=1095122, goodId=1000557),\n",
       " Row(badId=6708070, goodId=1007267),\n",
       " Row(badId=10088054, goodId=1042317),\n",
       " Row(badId=1195917, goodId=1042317)]"
      ]
     },
     "execution_count": 3,
     "metadata": {},
     "output_type": "execute_result"
    }
   ],
   "source": [
    "#artist_alias.txt\n",
    "artist_alias_schema = StructType([\n",
    "    StructField(\"badId\", LongType(), True),    \n",
    "    StructField(\"goodId\", LongType(), True)\n",
    "])\n",
    "artist_alias = spark.read.csv(folder+\"artist_alias.txt\", sep = \"\\t\", header=False, schema = artist_alias_schema)\n",
    "artist_alias.head(5)"
   ]
  },
  {
   "cell_type": "code",
   "execution_count": 4,
   "metadata": {},
   "outputs": [
    {
     "data": {
      "text/plain": [
       "[Row(artistId=1134999, artistName=u'06Crazy Life'),\n",
       " Row(artistId=6821360, artistName=u'Pang Nakarin'),\n",
       " Row(artistId=10113088, artistName=u'Terfel, Bartoli- Mozart: Don'),\n",
       " Row(artistId=10151459, artistName=u'The Flaming Sidebur'),\n",
       " Row(artistId=6826647, artistName=u'Bodenstandig 3000')]"
      ]
     },
     "execution_count": 4,
     "metadata": {},
     "output_type": "execute_result"
    }
   ],
   "source": [
    "#artist_data.txt\n",
    "artist_schema = StructType([\n",
    "    StructField(\"artistId\", LongType(), True),    \n",
    "    StructField(\"artistName\", StringType(), True)\n",
    "])\n",
    "artist_data = spark.read.csv(folder+\"artist_data.txt\", sep = \"\\t\", header=False, schema = artist_schema)\n",
    "artist_data.head(5)"
   ]
  },
  {
   "cell_type": "markdown",
   "metadata": {},
   "source": [
    "The name of an artist might be misspelled or nonstandard. For example, \"Collective Souls\" and \"Collective Soul\" may appear as different artist IDs in \"user_artist_data.txt\" even though they are completely the same. \"artist_alias.txt\" file contains \"badid\" artist IDs and \"goodid\" artist IDs. In order to have canonical ID for the same artist, I create a dictionary, which maps the \"wrong\" artist ID to \"right\" artist ID. "
   ]
  },
  {
   "cell_type": "code",
   "execution_count": 5,
   "metadata": {},
   "outputs": [],
   "source": [
    "artist_dict = {}\n",
    "for artist in artist_alias.rdd.collect():\n",
    "    artist_dict[artist[0]] = artist[1]\n",
    "user_artist = user_artist.rdd.map(lambda x: (x[0], artist_dict[x[1]] if x[1] in artist_dict else x[1], x[2]))"
   ]
  },
  {
   "cell_type": "markdown",
   "metadata": {},
   "source": [
    "Before doing any further analysis, I split the data into training(95%) data, validation data(2.5%), and testing data(2.5%)."
   ]
  },
  {
   "cell_type": "code",
   "execution_count": 6,
   "metadata": {},
   "outputs": [
    {
     "name": "stdout",
     "output_type": "stream",
     "text": [
      "23083000 training data set\n",
      "606111 validation data set\n",
      "607747 testing data set\n"
     ]
    }
   ],
   "source": [
    "(training_data, validation_data, testing_data) = user_artist.randomSplit([0.95, 0.025, 0.025], seed = 1) \n",
    "training_data.cache()\n",
    "validation_data.cache()\n",
    "testing_data.cache()\n",
    "print(str(training_data.count()) + \" training data set\")\n",
    "print(str(validation_data.count()) + \" validation data set\")\n",
    "print(str(testing_data.count()) + \" testing data set\")"
   ]
  },
  {
   "cell_type": "markdown",
   "metadata": {},
   "source": [
    "## 3. Alternating Least Square(ALS)"
   ]
  },
  {
   "cell_type": "markdown",
   "metadata": {},
   "source": [
    "ALS is a very popular algorithm for making recommendations. It is implemented in the pyspark package \"mllib\" and built for a larges-scale collaborative filtering problem. \n",
    "\n",
    "When dealing with matrix factorization problem, I found it is useful to compute the relative error of rating, which is \"playCount\" in this case. The relative error is computed by the error of the predictions divided by the Frobenius Norm of play count. "
   ]
  },
  {
   "cell_type": "code",
   "execution_count": 9,
   "metadata": {},
   "outputs": [],
   "source": [
    " def evaluation_RMES(data, model):\n",
    "    test_reorg = data.map(lambda x:((int(x[0]), int(x[1])), float(x[2]))) \n",
    "    pred_test = model.predictAll(data.map(lambda x:(x[0], x[1])))\n",
    "    pred_test_reorg = pred_test.map(lambda x: ((x[0],x[1]), x[2])) \n",
    "    joined = test_reorg.join(pred_test_reorg)\n",
    "    test_loss = sqrt(joined.map(lambda r: (r[1][0] - r[1][1])**2).sum())   \n",
    "    frob_error_orig = sqrt(data.map(lambda r: r[2]**2).sum())\n",
    "    rel_error = test_loss/frob_error_orig #the relative error\n",
    "    return rel_error"
   ]
  },
  {
   "cell_type": "markdown",
   "metadata": {},
   "source": [
    "To determinate the best model, the most important parameter to ALS model is the rank number. In general, a lower rank causes a higher error, and a high rank may lead to overfitting. Therefore, I fit a set of parameters into validation data to pick the most suitable latent factor which has the lowest RMSE value."
   ]
  },
  {
   "cell_type": "code",
   "execution_count": null,
   "metadata": {},
   "outputs": [
    {
     "name": "stdout",
     "output_type": "stream",
     "text": [
      "rank: 1, model error: 4.29575475616\n",
      "rank: 2, model error: 2.67415855383\n",
      "rank: 3, model error: 1.51715151875\n",
      "rank: 4, model error: 2.64813860612\n",
      "rank: 5, model error: 2.22537893404\n",
      "rank: 6, model error: 2.11535135927\n",
      "rank: 7, model error: 1.75072214807\n",
      "rank: 8, model error: 2.73658578046\n",
      "rank: 9, model error: 2.1439587104\n",
      "rank: 10, model error: 1.82052118554\n"
     ]
    }
   ],
   "source": [
    "ranks = range(1,11)\n",
    "rmse_lst = []\n",
    "for rank in ranks:\n",
    "    model = ALS.train(training_data, rank=rank, iterations=5, lambda_=0.02)\n",
    "    model_RMES = evaluation_RMES(validation_data, model)\n",
    "    rmse_lst.append(model_RMES)\n",
    "    print(\"rank: \" + str(rank) + \", model error: \" + str(model_RMES))    "
   ]
  },
  {
   "cell_type": "code",
   "execution_count": 11,
   "metadata": {},
   "outputs": [
    {
     "data": {
      "image/png": "[encoded data removed]",
      "text/plain": [
       "<matplotlib.figure.Figure at 0x7f28fba16410>"
      ]
     },
     "metadata": {},
     "output_type": "display_data"
    }
   ],
   "source": [
    "plt.plot(ranks,rmse_lst,'o-')  \n",
    "plt.xlabel('Number of latent factors')\n",
    "plt.ylabel('Root mean square error')\n",
    "plt.show()"
   ]
  },
  {
   "cell_type": "markdown",
   "metadata": {},
   "source": [
    "The smallest RMSE was obtained by the best ALS model with rank number 3, and it has test RMSE 1.6365 as shown below."
   ]
  },
  {
   "cell_type": "code",
   "execution_count": null,
   "metadata": {},
   "outputs": [
    {
     "name": "stdout",
     "output_type": "stream",
     "text": [
      "test RMSE: 1.63652897379\n"
     ]
    }
   ],
   "source": [
    "#test RMSE\n",
    "best_model = ALS.train(training_data, rank=3, iterations=5, lambda_=0.02)\n",
    "test_RMES = evaluation_RMES(testing_data, best_model)\n",
    "print('test RMSE: ' + str(test_RMES))    "
   ]
  },
  {
   "cell_type": "markdown",
   "metadata": {},
   "source": [
    "At last, I use the best ALS model to recommend the top N artists for a user."
   ]
  },
  {
   "cell_type": "code",
   "execution_count": 14,
   "metadata": {},
   "outputs": [
    {
     "name": "stdout",
     "output_type": "stream",
     "text": [
      "Top 5 artist recommend to user 1059637 are: \n",
      "Killswitch Engage - The End Of\n",
      "Crime brothers\n",
      "lizkar, crazy\n",
      "Spain In My Heart (Various)\n",
      "Alstroemeria Records\n"
     ]
    }
   ],
   "source": [
    "user_id = 1059637\n",
    "num = 5\n",
    "TopFive = best_model.recommendProducts(user_id ,num)\n",
    "print(\"Top \" + str(num) + \" artist recommend to user \" + str(user_id) + \" are: \")\n",
    "for i in range(5):\n",
    "    artist = artist_data.rdd.filter(lambda x:x[0] == TopFive[i][1]).collect()[0][1]\n",
    "    print(artist)"
   ]
  },
  {
   "cell_type": "markdown",
   "metadata": {},
   "source": [
    "## 4. Stochastic Gradient Descent (SGD)\n",
    "The stochastic gradient descent (SGD) approach are implemented in recommender_part2.ipynb."
   ]
  }
 ],
 "metadata": {
  "kernelspec": {
   "display_name": "Python 3",
   "language": "python",
   "name": "python3"
  },
  "language_info": {
   "codemirror_mode": {
    "name": "ipython",
    "version": 3
   },
   "file_extension": ".py",
   "mimetype": "text/x-python",
   "name": "python",
   "nbconvert_exporter": "python",
   "pygments_lexer": "ipython3",
   "version": "3.7.4"
  }
 },
 "nbformat": 4,
 "nbformat_minor": 2
}
